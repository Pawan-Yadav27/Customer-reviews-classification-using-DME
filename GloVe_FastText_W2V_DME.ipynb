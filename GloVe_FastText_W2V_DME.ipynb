{
  "nbformat": 4,
  "nbformat_minor": 0,
  "metadata": {
    "colab": {
      "name": "DLNLP_A3.ipynb",
      "provenance": [],
      "collapsed_sections": []
    },
    "kernelspec": {
      "display_name": "Python 3",
      "name": "python3"
    },
    "language_info": {
      "name": "python"
    }
  },
  "cells": [
    {
      "cell_type": "code",
      "metadata": {
        "colab": {
          "base_uri": "https://localhost:8080/"
        },
        "id": "V_4OZOjN0a8K",
        "outputId": "45d62d3b-c340-4454-d121-481ead68485c"
      },
      "source": [
        "!pip install contractions"
      ],
      "execution_count": null,
      "outputs": [
        {
          "output_type": "stream",
          "name": "stdout",
          "text": [
            "Collecting contractions\n",
            "  Downloading contractions-0.0.52-py2.py3-none-any.whl (7.2 kB)\n",
            "Collecting textsearch>=0.0.21\n",
            "  Downloading textsearch-0.0.21-py2.py3-none-any.whl (7.5 kB)\n",
            "Collecting anyascii\n",
            "  Downloading anyascii-0.3.0-py3-none-any.whl (284 kB)\n",
            "\u001b[K     |████████████████████████████████| 284 kB 5.3 MB/s \n",
            "\u001b[?25hCollecting pyahocorasick\n",
            "  Downloading pyahocorasick-1.4.2.tar.gz (321 kB)\n",
            "\u001b[K     |████████████████████████████████| 321 kB 38.4 MB/s \n",
            "\u001b[?25hBuilding wheels for collected packages: pyahocorasick\n",
            "  Building wheel for pyahocorasick (setup.py) ... \u001b[?25l\u001b[?25hdone\n",
            "  Created wheel for pyahocorasick: filename=pyahocorasick-1.4.2-cp37-cp37m-linux_x86_64.whl size=85441 sha256=ccd089fb0b90ea911b8d7b1f3decff28822716cf4eb07b9b41ad8f2cf7d8f865\n",
            "  Stored in directory: /root/.cache/pip/wheels/25/19/a6/8f363d9939162782bb8439d886469756271abc01f76fbd790f\n",
            "Successfully built pyahocorasick\n",
            "Installing collected packages: pyahocorasick, anyascii, textsearch, contractions\n",
            "Successfully installed anyascii-0.3.0 contractions-0.0.52 pyahocorasick-1.4.2 textsearch-0.0.21\n"
          ]
        }
      ]
    },
    {
      "cell_type": "code",
      "metadata": {
        "id": "dTnc8ir5uSRr"
      },
      "source": [
        "import string\n",
        "import itertools\n",
        "import numpy as np\n",
        "import pandas as pd\n",
        "import matplotlib.pyplot as plt\n",
        "from tqdm import tqdm_notebook as tqdm\n",
        "import contractions\n",
        "from string import punctuation\n",
        "from gensim.models import *\n",
        "\n",
        "import tensorflow as tf\n",
        "from tensorflow.keras.utils import *\n",
        "from tensorflow.keras.layers import *\n",
        "from tensorflow.keras.models import *\n",
        "import tensorflow.keras.backend as K\n",
        "from tensorflow.keras.preprocessing.text import Tokenizer\n",
        "from tensorflow.keras.preprocessing.sequence import pad_sequences\n",
        "\n",
        "# For reproducibility\n",
        "np.random.seed(25)"
      ],
      "execution_count": null,
      "outputs": []
    },
    {
      "cell_type": "code",
      "metadata": {
        "id": "s4a-6Vstu_1p",
        "colab": {
          "base_uri": "https://localhost:8080/"
        },
        "outputId": "49d2e3f4-b0d3-42c1-9506-4d2b25b1c88d"
      },
      "source": [
        "import nltk\n",
        "posFilePath='/content/drive/MyDrive/Data/A3/rt-polarity.pos'\n",
        "negFilePath='/content/drive/MyDrive/Data/A3/rt-polarity.neg'\n",
        "\n",
        "with open(posFilePath, encoding=\"latin-1\") as f:\n",
        "    posData=f.readlines()\n",
        "    \n",
        "with open(negFilePath,encoding=\"latin-1\") as f:\n",
        "    negData=f.readlines()\n",
        "posLabel = np.ones(len(posData))\n",
        "negLabel = np.zeros(len(negData))\n",
        "\n",
        "print(posLabel.shape , negLabel.shape)"
      ],
      "execution_count": null,
      "outputs": [
        {
          "output_type": "stream",
          "name": "stdout",
          "text": [
            "(5331,) (5331,)\n"
          ]
        }
      ]
    },
    {
      "cell_type": "code",
      "metadata": {
        "colab": {
          "base_uri": "https://localhost:8080/"
        },
        "id": "yq6nRctV7qky",
        "outputId": "1312441c-7220-400e-80d9-d3a8c768fbaf"
      },
      "source": [
        "from google.colab import drive\n",
        "drive.mount('/content/drive')"
      ],
      "execution_count": null,
      "outputs": [
        {
          "output_type": "stream",
          "name": "stdout",
          "text": [
            "Mounted at /content/drive\n"
          ]
        }
      ]
    },
    {
      "cell_type": "code",
      "metadata": {
        "colab": {
          "base_uri": "https://localhost:8080/"
        },
        "id": "7WSrVgAVuapr",
        "outputId": "60eb3970-86f9-4938-a0f3-3dab7b38369a"
      },
      "source": [
        "testSpltIndx=4500\n",
        "testNeg=negData[testSpltIndx:]\n",
        "testPos=posData[testSpltIndx:]\n",
        "posTestLabel = posLabel[testSpltIndx:]\n",
        "negTestLabel = negLabel[testSpltIndx:]\n",
        "\n",
        "trainNeg=negData[:testSpltIndx]\n",
        "trainPos=posData[:testSpltIndx]\n",
        "posTrainLabel = posLabel[:testSpltIndx]\n",
        "negTrainLabel = negLabel[:testSpltIndx]\n",
        "\n",
        "print(posTestLabel.shape , posTrainLabel.shape )\n",
        "print(testPos[0] , \" ---------- \" ,  trainPos[4499])"
      ],
      "execution_count": null,
      "outputs": [
        {
          "output_type": "stream",
          "name": "stdout",
          "text": [
            "(831,) (4500,)\n",
            "a good music documentary , probably one of the best since the last waltz . \n",
            "  ----------  without [de niro] , city by the sea would slip under the waves . he drags it back , single-handed . \n",
            "\n"
          ]
        }
      ]
    },
    {
      "cell_type": "code",
      "metadata": {
        "colab": {
          "base_uri": "https://localhost:8080/"
        },
        "id": "fo2kIUOWuc4S",
        "outputId": "6c9fdf36-4e4a-4ed1-97bb-cfd3801da736"
      },
      "source": [
        "train_texts =  trainPos + trainNeg\n",
        "train_labels = posTrainLabel.tolist() + negTrainLabel.tolist()\n",
        "\n",
        "test_texts = testPos + testNeg \n",
        "test_labels = posTestLabel.tolist() + negTestLabel.tolist()\n",
        "print(len(train_texts), len(train_labels),len(test_texts), len(test_labels))"
      ],
      "execution_count": null,
      "outputs": [
        {
          "output_type": "stream",
          "name": "stdout",
          "text": [
            "9000 9000 1662 1662\n"
          ]
        }
      ]
    },
    {
      "cell_type": "code",
      "metadata": {
        "id": "SwuCYAgZ4DMJ"
      },
      "source": [
        "translator = str.maketrans(string.punctuation, ' '*len(string.punctuation))\n",
        "# translator = str.maketrans('', '', string.punctuation)\n",
        "def preprocess(texts):\n",
        "  clean_texts = []\n",
        "  for i in range(len(texts)):\n",
        "    expanded_words = []\n",
        "    words = texts[i].split(\" \")\n",
        "    for word in words:\n",
        "      word = contractions.fix(word)\n",
        "      word = word.translate(translator)\n",
        "      tokens = word.split(\" \")\n",
        "      for token in tokens:\n",
        "        if(len(token) > 1):\n",
        "          expanded_words.append(token)      \n",
        "    clean_texts.append(expanded_words)\n",
        "  return clean_texts\n"
      ],
      "execution_count": null,
      "outputs": []
    },
    {
      "cell_type": "code",
      "metadata": {
        "colab": {
          "base_uri": "https://localhost:8080/"
        },
        "id": "RfJ_Awnh9FZK",
        "outputId": "6136a308-0ff2-4f7a-f158-47323fd4689e"
      },
      "source": [
        "text = train_texts[:2]\n",
        "return_text = preprocess(text)\n",
        "print(train_texts[0],train_texts[1])\n",
        "print(return_text[0])\n",
        "print(return_text[1])"
      ],
      "execution_count": null,
      "outputs": [
        {
          "output_type": "stream",
          "name": "stdout",
          "text": [
            "the rock is destined to be the 21st century's new \" conan \" and that he's going to make a splash even greater than arnold schwarzenegger , jean-claud van damme or steven segal . \n",
            " the gorgeously elaborate continuation of \" the lord of the rings \" trilogy is so huge that a column of words cannot adequately describe co-writer/director peter jackson's expanded vision of j . r . r . tolkien's middle-earth . \n",
            "\n",
            "['the', 'rock', 'is', 'destined', 'to', 'be', 'the', '21st', 'century', 'new', 'conan', 'and', 'that', 'he', 'is', 'going', 'to', 'make', 'splash', 'even', 'greater', 'than', 'arnold', 'schwarzenegger', 'jean', 'claud', 'van', 'damme', 'or', 'steven', 'segal']\n",
            "['the', 'gorgeously', 'elaborate', 'continuation', 'of', 'the', 'lord', 'of', 'the', 'rings', 'trilogy', 'is', 'so', 'huge', 'that', 'column', 'of', 'words', 'cannot', 'adequately', 'describe', 'co', 'writer', 'director', 'peter', 'jackson', 'expanded', 'vision', 'of', 'tolkien', 'middle', 'earth']\n"
          ]
        }
      ]
    },
    {
      "cell_type": "code",
      "metadata": {
        "id": "08CkAjmeA39d"
      },
      "source": [
        "X_train = preprocess(train_texts)\n",
        "X_test = preprocess(test_texts)"
      ],
      "execution_count": null,
      "outputs": []
    },
    {
      "cell_type": "code",
      "metadata": {
        "colab": {
          "base_uri": "https://localhost:8080/"
        },
        "id": "l_3T6AsAufST",
        "outputId": "bde521d2-6c78-41cf-c510-6d836bdf8e2c"
      },
      "source": [
        "from sklearn.utils import shuffle\n",
        "X_train,y_train = shuffle(X_train, train_labels)\n",
        "X_test,y_test = shuffle(X_test, test_labels)\n",
        "\n",
        "# X_train,y_train = shuffle(train_texts, train_labels)\n",
        "# X_test,y_test = shuffle(test_texts, test_labels)\n",
        "print(X_train[0])\n",
        "print(y_train[0])\n"
      ],
      "execution_count": null,
      "outputs": [
        {
          "output_type": "stream",
          "name": "stdout",
          "text": [
            "['an', 'incredibly', 'irritating', 'comedy', 'about', 'thoroughly', 'vacuous', 'people', 'manages', 'to', 'embody', 'the', 'worst', 'excesses', 'of', 'nouvelle', 'vague', 'without', 'any', 'of', 'its', 'sense', 'of', 'fun', 'or', 'energy']\n",
            "0.0\n"
          ]
        }
      ]
    },
    {
      "cell_type": "code",
      "metadata": {
        "colab": {
          "base_uri": "https://localhost:8080/"
        },
        "id": "WnwBwkjHuia7",
        "outputId": "0bbc59ec-5a6d-46a5-eac8-90a7a6fc03f3"
      },
      "source": [
        "\n",
        "max_seq_length = max([len(item) for item in X_train])\n",
        "average_seq_length = sum([len(s) for s in X_train]) / len(X_train)\n",
        "print(max_seq_length , \"-------\" ,average_seq_length )"
      ],
      "execution_count": null,
      "outputs": [
        {
          "output_type": "stream",
          "name": "stdout",
          "text": [
            "50 ------- 18.351444444444443\n"
          ]
        }
      ]
    },
    {
      "cell_type": "code",
      "metadata": {
        "colab": {
          "base_uri": "https://localhost:8080/"
        },
        "id": "9pBrRXIvuk_D",
        "outputId": "2ab7fb8f-62f0-4d03-d1fa-e46f73538cfa"
      },
      "source": [
        "max_len = 25\n",
        "\n",
        "tokenizer = Tokenizer(lower=True)\n",
        "tokenizer.fit_on_texts(X_train)\n",
        "\n",
        "sequence_train = tokenizer.texts_to_sequences(X_train)\n",
        "sequence_train = pad_sequences(sequence_train,padding='post', maxlen=max_len)\n",
        "sequence_train = np.asarray(sequence_train)\n",
        "\n",
        "sequence_test = tokenizer.texts_to_sequences(X_test)\n",
        "sequence_test = pad_sequences(sequence_test,padding='post', maxlen=max_len)\n",
        "sequence_test = np.asarray(sequence_test)\n",
        "\n",
        "vocab_size = len(tokenizer.word_index) + 1\n",
        "print(\"Train data shape : \" , sequence_train.shape, \"Test data shape : \" , sequence_test.shape)\n",
        "print(vocab_size)\n",
        "# print(sequence_train[0])"
      ],
      "execution_count": null,
      "outputs": [
        {
          "output_type": "stream",
          "name": "stdout",
          "text": [
            "Train data shape :  (9000, 25) Test data shape :  (1662, 25)\n",
            "17046\n"
          ]
        }
      ]
    },
    {
      "cell_type": "code",
      "metadata": {
        "colab": {
          "base_uri": "https://localhost:8080/"
        },
        "id": "jXCXYDqBMSi0",
        "outputId": "33e7a4e9-34f7-4712-ccaa-09e9fa854dba"
      },
      "source": [
        "print(X_train[0])\n",
        "sequence_train[0]"
      ],
      "execution_count": null,
      "outputs": [
        {
          "output_type": "stream",
          "name": "stdout",
          "text": [
            "['an', 'incredibly', 'irritating', 'comedy', 'about', 'thoroughly', 'vacuous', 'people', 'manages', 'to', 'embody', 'the', 'worst', 'excesses', 'of', 'nouvelle', 'vague', 'without', 'any', 'of', 'its', 'sense', 'of', 'fun', 'or', 'energy']\n"
          ]
        },
        {
          "output_type": "execute_result",
          "data": {
            "text/plain": [
              "array([1230, 1155,   55,   26,  612, 9032,  119,  270,    5, 9033,    1,\n",
              "        348, 3345,    3, 6362, 2531,  127,   87,    3,   18,  144,    3,\n",
              "        125,   37,  391], dtype=int32)"
            ]
          },
          "metadata": {},
          "execution_count": 23
        }
      ]
    },
    {
      "cell_type": "code",
      "metadata": {
        "id": "blQsKt2_FuaI"
      },
      "source": [
        "def getModel(flag , embeddings):\n",
        "  if(flag == 0):\n",
        "    # define model\n",
        "    model = Sequential()\n",
        "    model.add(embeddings)\n",
        "    model.add(LSTM(512, dropout=0.2, return_sequences=True))\n",
        "    model.add(Dense(1, activation='sigmoid'))\n",
        "    model.compile(loss='binary_crossentropy', optimizer='adam', metrics=['accuracy'])\n",
        "    return model\n",
        "  elif(flag == 1):\n",
        "    model = Sequential()\n",
        "    model.add(embeddings)\n",
        "    model.add(LSTM(512, dropout=0.2, return_sequences=True))\n",
        "    model.add(LSTM(128, dropout=0.2, return_sequences=True))\n",
        "    model.add(Dense(1, activation='sigmoid'))\n",
        "    model.compile(loss='binary_crossentropy', optimizer='adam', metrics=['accuracy'])\n",
        "    return model\n",
        "  elif(flag == 2):\n",
        "    model = Sequential()\n",
        "    model.add(embeddings)\n",
        "    model.add(LSTM(1024, dropout=0.2, return_sequences=True))\n",
        "    model.add(LSTM(256, dropout=0.2, return_sequences=True))\n",
        "    model.add(LSTM(64, dropout=0.2, return_sequences=True))\n",
        "    model.add(Dense(1, activation='sigmoid'))\n",
        "    model.compile(loss='binary_crossentropy', optimizer='adam', metrics=['accuracy'])\n",
        "    return model\n",
        "\n"
      ],
      "execution_count": null,
      "outputs": []
    },
    {
      "cell_type": "code",
      "metadata": {
        "id": "uWajjqx4tmcU"
      },
      "source": [
        "\n",
        "# load embedding as a dict\n",
        "def load_embedding(filename):\n",
        "\t# load embedding into memory, skip first line\n",
        "\tfile = open(filename,'r')\n",
        "\tlines = file.readlines()\n",
        "\tfile.close()\n",
        "\t# create a map of words to vectors\n",
        "\tembedding = dict()\n",
        "\tfor line in lines:\n",
        "\t\tparts = line.split()\n",
        "\t\t# key is string word, value is numpy array for vector\n",
        "\t\tembedding[parts[0]] = np.asarray(parts[1:], dtype='float32')\n",
        "\treturn embedding\n",
        "\n",
        "# create a weight matrix for the Embedding layer from a loaded embedding\n",
        "def get_weight_matrix(embedding, vocab , emd_size):\n",
        "\t# total vocabulary size plus 0 for unknown words\n",
        "\tvocab_size = len(vocab) + 1\n",
        "\t# define weight matrix dimensions with all 0\n",
        "\tweight_matrix = np.zeros((vocab_size, emd_size))\n",
        "\t# step vocab, store vectors using the Tokenizer's integer mapping\n",
        "\tfor word, i in vocab.items():\n",
        "\t\tvector = embedding.get(word)\n",
        "\t\tif vector is not None:\n",
        "\t\t\tweight_matrix[i] = vector\n",
        "\treturn weight_matrix"
      ],
      "execution_count": null,
      "outputs": []
    },
    {
      "cell_type": "code",
      "metadata": {
        "id": "oXKbMBeWgYa0"
      },
      "source": [
        "# from gensim.models import KeyedVectors\n",
        "\n",
        "# EMBEDDING_FILE = '/content/drive/MyDrive/Data/GoogleNews-vectors-negative300.bin'\n",
        "# # !wget -P /root/input/ -c \"https://s3.amazonaws.com/dl4j-distribution/GoogleNews-vectors-negative300.bin.gz\"\n",
        "\n",
        "# word2vec = KeyedVectors.load_word2vec_format(EMBEDDING_FILE, binary=True)\n"
      ],
      "execution_count": null,
      "outputs": []
    },
    {
      "cell_type": "code",
      "metadata": {
        "id": "g15r_HAzix3d"
      },
      "source": [
        "x = word2vec.word_vec(\"test\")\n",
        "print(len(x)) "
      ],
      "execution_count": null,
      "outputs": []
    },
    {
      "cell_type": "code",
      "metadata": {
        "id": "HCM4LEXDgmX1",
        "colab": {
          "base_uri": "https://localhost:8080/"
        },
        "outputId": "436ddeab-38f5-4a5e-8f92-20e40c4d3c10"
      },
      "source": [
        "# vocab_size = len(tokenizer.word_index) + 1\n",
        "# embedding_matrix_w2v = np.random.random((vocab_size, 300))\n",
        "# pas = 0\n",
        "# count = 0 \n",
        "# for word,i in tokenizer.word_index.items():\n",
        "#     # if(pas < 10):\n",
        "#     #   print(word)\n",
        "#     try:\n",
        "#         embedding_matrix_w2v[i] = word2vec.wv[word]\n",
        "#         # print(word , i )\n",
        "#     except:\n",
        "#         pas+=1\n",
        "# print('not in vocabulary', pas)\n",
        "\n",
        "# np.save(\"/content/drive/MyDrive/Data/A3/embedding_matrix_w2v\", embedding_matrix_w2v)\n",
        "\n",
        "# # create the embedding layer\n",
        "# w2v_embeddings = Embedding(vocab_size, 300, weights=[embedding_matrix_w2v], input_length=max_len, trainable=False)"
      ],
      "execution_count": null,
      "outputs": [
        {
          "output_type": "stream",
          "name": "stderr",
          "text": [
            "/usr/local/lib/python3.7/dist-packages/ipykernel_launcher.py:9: DeprecationWarning: Call to deprecated `wv` (Attribute will be removed in 4.0.0, use self instead).\n",
            "  if __name__ == '__main__':\n"
          ]
        },
        {
          "output_type": "stream",
          "name": "stdout",
          "text": [
            "not in vocabulary 1884\n"
          ]
        }
      ]
    },
    {
      "cell_type": "code",
      "metadata": {
        "id": "BO3uggbSVZMG"
      },
      "source": [
        "embedding_matrix_w2v = np.load(\"/content/drive/MyDrive/Data/A3/embedding_matrix_w2v.npy\")\n",
        "w2v_embeddings = Embedding(vocab_size, 300, weights=[embedding_matrix_w2v], input_length=max_len, trainable=False)\n"
      ],
      "execution_count": null,
      "outputs": []
    },
    {
      "cell_type": "code",
      "metadata": {
        "colab": {
          "base_uri": "https://localhost:8080/"
        },
        "id": "iv0qpXtZcrcG",
        "outputId": "0a845c8a-d15c-478a-ee68-8f91ddfb142e"
      },
      "source": [
        "\n",
        "# define model\n",
        "w2v = Sequential()\n",
        "w2v.add(w2v_embeddings)\n",
        "# w2v.add(LSTM(1024, dropout=0.2, return_sequences=True))\n",
        "# w2v.add(LSTM(256, dropout=0.2, return_sequences=True))\n",
        "# w2v.add(LSTM(64, dropout=0.2, return_sequences=True))\n",
        "w2v.add(Bidirectional(LSTM(512, dropout=0.2, return_sequences=True)))\n",
        "w2v.add(Bidirectional(LSTM(128, dropout=0.2, return_sequences=True)))\n",
        "w2v.add(Bidirectional(LSTM(32, dropout=0.2)))\n",
        "w2v.add(Dense(1, activation='sigmoid'))\n",
        "print(w2v.summary())\n",
        "# compile network\n",
        "w2v.compile(loss='binary_crossentropy', optimizer='adam', metrics=['accuracy'])\n",
        "\n",
        "callback = tf.keras.callbacks.EarlyStopping(monitor='loss', patience=5)\n",
        "# fit network\n",
        "history = w2v.fit(sequence_train, np.asarray(y_train),\n",
        "                          shuffle = True,\n",
        "                    batch_size=256,\n",
        "                    epochs=20,\n",
        "                    callbacks=[callback],\n",
        "                    validation_split=0.2)\n",
        "\n",
        "# evaluate\n",
        "loss, acc = w2v.evaluate(sequence_test,np.asarray(y_test), verbose=0)\n",
        "print('Test Accuracy: %f' % (acc*100))"
      ],
      "execution_count": null,
      "outputs": [
        {
          "output_type": "stream",
          "name": "stdout",
          "text": [
            "Model: \"sequential_5\"\n",
            "_________________________________________________________________\n",
            "Layer (type)                 Output Shape              Param #   \n",
            "=================================================================\n",
            "embedding_21 (Embedding)     (None, 25, 300)           5113800   \n",
            "_________________________________________________________________\n",
            "bidirectional_26 (Bidirectio (None, 25, 1024)          3330048   \n",
            "_________________________________________________________________\n",
            "bidirectional_27 (Bidirectio (None, 25, 256)           1180672   \n",
            "_________________________________________________________________\n",
            "bidirectional_28 (Bidirectio (None, 64)                73984     \n",
            "_________________________________________________________________\n",
            "dense_18 (Dense)             (None, 1)                 65        \n",
            "=================================================================\n",
            "Total params: 9,698,569\n",
            "Trainable params: 4,584,769\n",
            "Non-trainable params: 5,113,800\n",
            "_________________________________________________________________\n",
            "None\n",
            "Epoch 1/20\n",
            "29/29 [==============================] - 19s 255ms/step - loss: 0.6961 - accuracy: 0.5471 - val_loss: 0.6267 - val_accuracy: 0.6311\n",
            "Epoch 2/20\n",
            "29/29 [==============================] - 5s 166ms/step - loss: 0.5856 - accuracy: 0.6878 - val_loss: 0.4891 - val_accuracy: 0.7750\n",
            "Epoch 3/20\n",
            "29/29 [==============================] - 5s 167ms/step - loss: 0.5126 - accuracy: 0.7478 - val_loss: 0.5018 - val_accuracy: 0.7578\n",
            "Epoch 4/20\n",
            "29/29 [==============================] - 5s 166ms/step - loss: 0.4778 - accuracy: 0.7724 - val_loss: 0.4382 - val_accuracy: 0.7878\n",
            "Epoch 5/20\n",
            "29/29 [==============================] - 5s 166ms/step - loss: 0.4550 - accuracy: 0.7928 - val_loss: 0.4355 - val_accuracy: 0.7900\n",
            "Epoch 6/20\n",
            "29/29 [==============================] - 5s 165ms/step - loss: 0.4409 - accuracy: 0.7886 - val_loss: 0.4373 - val_accuracy: 0.7900\n",
            "Epoch 7/20\n",
            "29/29 [==============================] - 5s 165ms/step - loss: 0.4291 - accuracy: 0.7994 - val_loss: 0.4297 - val_accuracy: 0.7939\n",
            "Epoch 8/20\n",
            "29/29 [==============================] - 5s 164ms/step - loss: 0.4174 - accuracy: 0.8072 - val_loss: 0.4306 - val_accuracy: 0.7922\n",
            "Epoch 9/20\n",
            "29/29 [==============================] - 5s 164ms/step - loss: 0.4017 - accuracy: 0.8094 - val_loss: 0.4263 - val_accuracy: 0.7972\n",
            "Epoch 10/20\n",
            "29/29 [==============================] - 5s 164ms/step - loss: 0.3822 - accuracy: 0.8214 - val_loss: 0.4349 - val_accuracy: 0.7889\n",
            "Epoch 11/20\n",
            "29/29 [==============================] - 5s 164ms/step - loss: 0.3690 - accuracy: 0.8314 - val_loss: 0.4443 - val_accuracy: 0.7850\n",
            "Epoch 12/20\n",
            "29/29 [==============================] - 5s 164ms/step - loss: 0.3526 - accuracy: 0.8401 - val_loss: 0.4613 - val_accuracy: 0.7950\n",
            "Epoch 13/20\n",
            "29/29 [==============================] - 5s 165ms/step - loss: 0.3223 - accuracy: 0.8587 - val_loss: 0.4486 - val_accuracy: 0.7861\n",
            "Epoch 14/20\n",
            "29/29 [==============================] - 5s 163ms/step - loss: 0.3268 - accuracy: 0.8578 - val_loss: 0.4577 - val_accuracy: 0.7972\n",
            "Epoch 15/20\n",
            "29/29 [==============================] - 5s 163ms/step - loss: 0.2969 - accuracy: 0.8706 - val_loss: 0.4801 - val_accuracy: 0.7950\n",
            "Epoch 16/20\n",
            "29/29 [==============================] - 5s 163ms/step - loss: 0.2654 - accuracy: 0.8868 - val_loss: 0.5592 - val_accuracy: 0.7772\n",
            "Epoch 17/20\n",
            "29/29 [==============================] - 5s 163ms/step - loss: 0.2638 - accuracy: 0.8844 - val_loss: 0.5204 - val_accuracy: 0.7761\n",
            "Epoch 18/20\n",
            "29/29 [==============================] - 5s 163ms/step - loss: 0.2414 - accuracy: 0.8994 - val_loss: 0.5461 - val_accuracy: 0.7656\n",
            "Epoch 19/20\n",
            "29/29 [==============================] - 5s 163ms/step - loss: 0.2199 - accuracy: 0.9078 - val_loss: 0.5603 - val_accuracy: 0.7828\n",
            "Epoch 20/20\n",
            "29/29 [==============================] - 5s 163ms/step - loss: 0.1937 - accuracy: 0.9157 - val_loss: 0.6037 - val_accuracy: 0.7883\n",
            "Test Accuracy: 75.451261\n"
          ]
        }
      ]
    },
    {
      "cell_type": "code",
      "metadata": {
        "colab": {
          "base_uri": "https://localhost:8080/",
          "height": 331
        },
        "id": "wiD5213AFpvR",
        "outputId": "b51d12d1-fb00-4c9c-f978-3eb7761ca0be"
      },
      "source": [
        "plt.title('Loss Vs Epochs ' )\n",
        "for i in range(3):\n",
        "  print(i)\n",
        "  w2v = getModel(i ,w2v_embeddings )\n",
        "  history = w2v.fit(sequence_train, np.asarray(y_train),\n",
        "                          shuffle = True,\n",
        "                    batch_size=256,\n",
        "                    epochs=10,\n",
        "                    verbose= 0,\n",
        "                    validation_split=0.2)\n",
        "\n",
        "  plt.plot(history.history['val_loss'],label=\"model\"+str(i+1))\n",
        "  plt.legend()"
      ],
      "execution_count": null,
      "outputs": [
        {
          "output_type": "stream",
          "name": "stdout",
          "text": [
            "0\n",
            "1\n",
            "2\n"
          ]
        },
        {
          "output_type": "display_data",
          "data": {
            "image/png": "[encoded data removed]",
            "text/plain": [
              "<Figure size 432x288 with 1 Axes>"
            ]
          },
          "metadata": {
            "needs_background": "light"
          }
        }
      ]
    },
    {
      "cell_type": "code",
      "metadata": {
        "id": "FY4r1zafPkVr"
      },
      "source": [
        "# fasttext_embeddings = load_embedding('/content/drive/MyDrive/Data/cc.en.300.vec/cc.en.300.vec')\n",
        "# # get vectors in the right order\n",
        "# embedding_matrix_ft = get_weight_matrix(fasttext_embeddings, tokenizer.word_index, 300)\n",
        "# # create the embedding layer\n",
        "# ft_embeddings = Embedding(vocab_size, 300, weights=[embedding_matrix_ft], input_length=max_len, trainable=False)\n",
        "# np.save(\"/content/drive/MyDrive/Data/A3/embedding_matrix_ft\", embedding_matrix_ft)\n"
      ],
      "execution_count": null,
      "outputs": []
    },
    {
      "cell_type": "code",
      "metadata": {
        "id": "SjWLagO0Ukmm"
      },
      "source": [
        "embedding_matrix_ft = np.load(\"/content/drive/MyDrive/Data/A3/embedding_matrix_ft.npy\")\n",
        "ft_embeddings = Embedding(vocab_size, 300, weights=[embedding_matrix_ft], input_length=max_len, trainable=False)"
      ],
      "execution_count": null,
      "outputs": []
    },
    {
      "cell_type": "code",
      "metadata": {
        "colab": {
          "base_uri": "https://localhost:8080/"
        },
        "id": "Ylfc0d-wOkqJ",
        "outputId": "7dfabece-52be-4ea4-a6e5-e0edef43dab2"
      },
      "source": [
        "\n",
        "# define model\n",
        "ft = Sequential()\n",
        "ft.add(ft_embeddings)\n",
        "# ft.add(LSTM(1024, dropout=0.2, return_sequences=True))\n",
        "# ft.add(LSTM(256, dropout=0.2, return_sequences=True))\n",
        "# ft.add(LSTM(64, dropout=0.2, return_sequences=True))\n",
        "ft.add(Bidirectional(LSTM(512, dropout=0.2, return_sequences=True)))\n",
        "ft.add(Bidirectional(LSTM(128, dropout=0.2, return_sequences=True)))\n",
        "ft.add(Bidirectional(LSTM(32, dropout=0.2)))\n",
        "ft.add(Dense(1, activation='sigmoid'))\n",
        "print(ft.summary())\n",
        "# compile network\n",
        "ft.compile(loss='binary_crossentropy', optimizer='adam', metrics=['accuracy'])\n",
        "\n",
        "callback = tf.keras.callbacks.EarlyStopping(monitor='loss', patience=5)\n",
        "# fit network\n",
        "history = ft.fit(sequence_train, np.asarray(y_train),\n",
        "                          shuffle = True,\n",
        "                    batch_size=256,\n",
        "                    epochs=20,\n",
        "                    callbacks = [callback],\n",
        "                    validation_split=0.2)\n",
        "\n",
        "# evaluate\n",
        "loss, acc = ft.evaluate(sequence_test,np.asarray(y_test), verbose=0)\n",
        "print('Test Accuracy: %f' % (acc*100))"
      ],
      "execution_count": null,
      "outputs": [
        {
          "output_type": "stream",
          "name": "stdout",
          "text": [
            "Model: \"sequential_7\"\n",
            "_________________________________________________________________\n",
            "Layer (type)                 Output Shape              Param #   \n",
            "=================================================================\n",
            "embedding_22 (Embedding)     (None, 25, 300)           5113800   \n",
            "_________________________________________________________________\n",
            "bidirectional_32 (Bidirectio (None, 25, 1024)          3330048   \n",
            "_________________________________________________________________\n",
            "bidirectional_33 (Bidirectio (None, 25, 256)           1180672   \n",
            "_________________________________________________________________\n",
            "bidirectional_34 (Bidirectio (None, 64)                73984     \n",
            "_________________________________________________________________\n",
            "dense_20 (Dense)             (None, 1)                 65        \n",
            "=================================================================\n",
            "Total params: 9,698,569\n",
            "Trainable params: 4,584,769\n",
            "Non-trainable params: 5,113,800\n",
            "_________________________________________________________________\n",
            "None\n",
            "Epoch 1/20\n",
            "29/29 [==============================] - 18s 253ms/step - loss: 0.6438 - accuracy: 0.6278 - val_loss: 0.5334 - val_accuracy: 0.7333\n",
            "Epoch 2/20\n",
            "29/29 [==============================] - 5s 165ms/step - loss: 0.5435 - accuracy: 0.7247 - val_loss: 0.5111 - val_accuracy: 0.7406\n",
            "Epoch 3/20\n",
            "29/29 [==============================] - 5s 166ms/step - loss: 0.5156 - accuracy: 0.7435 - val_loss: 0.4746 - val_accuracy: 0.7700\n",
            "Epoch 4/20\n",
            "29/29 [==============================] - 5s 165ms/step - loss: 0.4907 - accuracy: 0.7593 - val_loss: 0.4627 - val_accuracy: 0.7806\n",
            "Epoch 5/20\n",
            "29/29 [==============================] - 5s 166ms/step - loss: 0.4783 - accuracy: 0.7607 - val_loss: 0.4755 - val_accuracy: 0.7644\n",
            "Epoch 6/20\n",
            "29/29 [==============================] - 5s 164ms/step - loss: 0.4807 - accuracy: 0.7724 - val_loss: 0.4924 - val_accuracy: 0.7617\n",
            "Epoch 7/20\n",
            "29/29 [==============================] - 5s 164ms/step - loss: 0.4668 - accuracy: 0.7735 - val_loss: 0.4695 - val_accuracy: 0.7778\n",
            "Epoch 8/20\n",
            "29/29 [==============================] - 5s 164ms/step - loss: 0.4507 - accuracy: 0.7793 - val_loss: 0.4803 - val_accuracy: 0.7756\n",
            "Epoch 9/20\n",
            "29/29 [==============================] - 5s 164ms/step - loss: 0.4410 - accuracy: 0.7862 - val_loss: 0.4451 - val_accuracy: 0.7861\n",
            "Epoch 10/20\n",
            "29/29 [==============================] - 5s 164ms/step - loss: 0.4314 - accuracy: 0.7965 - val_loss: 0.4527 - val_accuracy: 0.7861\n",
            "Epoch 11/20\n",
            "29/29 [==============================] - 5s 164ms/step - loss: 0.4165 - accuracy: 0.8050 - val_loss: 0.4605 - val_accuracy: 0.7817\n",
            "Epoch 12/20\n",
            "29/29 [==============================] - 5s 163ms/step - loss: 0.4005 - accuracy: 0.8161 - val_loss: 0.4462 - val_accuracy: 0.7894\n",
            "Epoch 13/20\n",
            "29/29 [==============================] - 5s 164ms/step - loss: 0.3956 - accuracy: 0.8208 - val_loss: 0.4482 - val_accuracy: 0.7917\n",
            "Epoch 14/20\n",
            "29/29 [==============================] - 5s 163ms/step - loss: 0.3898 - accuracy: 0.8169 - val_loss: 0.4560 - val_accuracy: 0.7861\n",
            "Epoch 15/20\n",
            "29/29 [==============================] - 5s 164ms/step - loss: 0.3814 - accuracy: 0.8300 - val_loss: 0.4600 - val_accuracy: 0.7872\n",
            "Epoch 16/20\n",
            "29/29 [==============================] - 5s 163ms/step - loss: 0.3702 - accuracy: 0.8213 - val_loss: 0.4642 - val_accuracy: 0.7767\n",
            "Epoch 17/20\n",
            "29/29 [==============================] - 5s 163ms/step - loss: 0.3550 - accuracy: 0.8385 - val_loss: 0.4810 - val_accuracy: 0.7778\n",
            "Epoch 18/20\n",
            "29/29 [==============================] - 5s 163ms/step - loss: 0.3398 - accuracy: 0.8486 - val_loss: 0.5169 - val_accuracy: 0.7672\n",
            "Epoch 19/20\n",
            "29/29 [==============================] - 5s 163ms/step - loss: 0.3246 - accuracy: 0.8549 - val_loss: 0.4946 - val_accuracy: 0.7733\n",
            "Epoch 20/20\n",
            "29/29 [==============================] - 5s 163ms/step - loss: 0.3103 - accuracy: 0.8656 - val_loss: 0.5118 - val_accuracy: 0.7728\n",
            "Test Accuracy: 73.766547\n"
          ]
        }
      ]
    },
    {
      "cell_type": "code",
      "metadata": {
        "id": "-cov_s1SGcyb",
        "colab": {
          "base_uri": "https://localhost:8080/",
          "height": 331
        },
        "outputId": "4bc1e27b-109e-4c8e-b6a9-8455e71aea55"
      },
      "source": [
        "plt.title('Loss Vs Epochs ' )\n",
        "for i in range(3):\n",
        "  print(i)\n",
        "  ft = getModel(i ,ft_embeddings )\n",
        "  history = ft.fit(sequence_train, np.asarray(y_train),\n",
        "                          shuffle = True,\n",
        "                    batch_size=256,\n",
        "                    epochs=10,\n",
        "                    verbose= 0,\n",
        "                    validation_split=0.2)\n",
        "\n",
        "  plt.plot(history.history['val_loss'],label=\"model\"+str(i+1))\n",
        "  plt.legend()"
      ],
      "execution_count": null,
      "outputs": [
        {
          "output_type": "stream",
          "name": "stdout",
          "text": [
            "0\n",
            "1\n",
            "2\n"
          ]
        },
        {
          "output_type": "display_data",
          "data": {
            "image/png": "[encoded data removed]",
            "text/plain": [
              "<Figure size 432x288 with 1 Axes>"
            ]
          },
          "metadata": {
            "needs_background": "light"
          }
        }
      ]
    },
    {
      "cell_type": "code",
      "metadata": {
        "id": "OAQMnb1otp1M"
      },
      "source": [
        "# # load embedding from file\n",
        "# glove_embedding = load_embedding('/content/drive/MyDrive/Data/glove.6B.300d.txt')\n",
        "# # get vectors in the right order\n",
        "# embedding_matrix_glove = get_weight_matrix(glove_embedding, tokenizer.word_index ,300)\n",
        "# # create the embedding layer\n",
        "# glove_embeddings = Embedding(vocab_size, 100, weights=[embedding_matrix_glove], input_length=max_len, trainable=False)\n",
        "# np.save(\"/content/drive/MyDrive/Data/A3/embedding_matrix_glove\", embedding_matrix_glove)"
      ],
      "execution_count": null,
      "outputs": []
    },
    {
      "cell_type": "code",
      "metadata": {
        "id": "34s1kwTJPgCN"
      },
      "source": [
        "embedding_matrix_glove = np.load(\"/content/drive/MyDrive/Data/A3/embedding_matrix_glove.npy\")\n",
        "glove_embeddings = Embedding(vocab_size, 300, weights=[embedding_matrix_glove], input_length=max_len, trainable=False)"
      ],
      "execution_count": null,
      "outputs": []
    },
    {
      "cell_type": "code",
      "metadata": {
        "id": "9HkNK4tn4PCG",
        "colab": {
          "base_uri": "https://localhost:8080/"
        },
        "outputId": "e9a95c3d-0d4e-4c3d-bf48-2226b4c1a235"
      },
      "source": [
        "# define model\n",
        "glove = Sequential()\n",
        "glove.add(glove_embeddings)\n",
        "# glove.add(LSTM(1024, dropout=0.2, return_sequences=True))\n",
        "# glove.add(LSTM(256, dropout=0.2, return_sequences=True))\n",
        "# glove.add(LSTM(64, dropout=0.2))\n",
        "glove.add(Bidirectional(LSTM(512, dropout=0.2, return_sequences=True)))\n",
        "glove.add(Bidirectional(LSTM(128, dropout=0.2, return_sequences=True)))\n",
        "glove.add(Bidirectional(LSTM(32, dropout=0.2)))\n",
        "glove.add(Dense(1, activation='sigmoid'))\n",
        "print(glove.summary())\n",
        "# compile network\n",
        "glove.compile(loss='binary_crossentropy', optimizer='adam', metrics=['accuracy'])\n",
        "\n",
        "callback = tf.keras.callbacks.EarlyStopping(monitor='loss', patience=5)\n",
        "# fit network\n",
        "history = glove.fit(sequence_train, np.asarray(y_train),\n",
        "                          shuffle = True,\n",
        "                    batch_size=256,\n",
        "                    epochs=20,\n",
        "                    callbacks = [callback],\n",
        "                    validation_split=0.2)# evaluate\n",
        "loss, acc = glove.evaluate(sequence_test,np.asarray(y_test), verbose=0)\n",
        "print('Test Accuracy: %f' % (acc*100))"
      ],
      "execution_count": null,
      "outputs": [
        {
          "output_type": "stream",
          "name": "stdout",
          "text": [
            "Model: \"sequential_8\"\n",
            "_________________________________________________________________\n",
            "Layer (type)                 Output Shape              Param #   \n",
            "=================================================================\n",
            "embedding_29 (Embedding)     (None, 25, 300)           5113800   \n",
            "_________________________________________________________________\n",
            "bidirectional_35 (Bidirectio (None, 25, 1024)          3330048   \n",
            "_________________________________________________________________\n",
            "bidirectional_36 (Bidirectio (None, 25, 256)           1180672   \n",
            "_________________________________________________________________\n",
            "bidirectional_37 (Bidirectio (None, 64)                73984     \n",
            "_________________________________________________________________\n",
            "dense_21 (Dense)             (None, 1)                 65        \n",
            "=================================================================\n",
            "Total params: 9,698,569\n",
            "Trainable params: 4,584,769\n",
            "Non-trainable params: 5,113,800\n",
            "_________________________________________________________________\n",
            "None\n",
            "Epoch 1/20\n",
            "29/29 [==============================] - 19s 252ms/step - loss: 0.6229 - accuracy: 0.6542 - val_loss: 0.5079 - val_accuracy: 0.7489\n",
            "Epoch 2/20\n",
            "29/29 [==============================] - 5s 163ms/step - loss: 0.5024 - accuracy: 0.7532 - val_loss: 0.4863 - val_accuracy: 0.7661\n",
            "Epoch 3/20\n",
            "29/29 [==============================] - 5s 164ms/step - loss: 0.4802 - accuracy: 0.7638 - val_loss: 0.4542 - val_accuracy: 0.7800\n",
            "Epoch 4/20\n",
            "29/29 [==============================] - 5s 165ms/step - loss: 0.4485 - accuracy: 0.7886 - val_loss: 0.4373 - val_accuracy: 0.7917\n",
            "Epoch 5/20\n",
            "29/29 [==============================] - 5s 165ms/step - loss: 0.4244 - accuracy: 0.8054 - val_loss: 0.4519 - val_accuracy: 0.7817\n",
            "Epoch 6/20\n",
            "29/29 [==============================] - 5s 166ms/step - loss: 0.4037 - accuracy: 0.8136 - val_loss: 0.4605 - val_accuracy: 0.7767\n",
            "Epoch 7/20\n",
            "29/29 [==============================] - 5s 165ms/step - loss: 0.3741 - accuracy: 0.8292 - val_loss: 0.4582 - val_accuracy: 0.7822\n",
            "Epoch 8/20\n",
            "29/29 [==============================] - 5s 164ms/step - loss: 0.3504 - accuracy: 0.8388 - val_loss: 0.4512 - val_accuracy: 0.8022\n",
            "Epoch 9/20\n",
            "29/29 [==============================] - 5s 164ms/step - loss: 0.3145 - accuracy: 0.8622 - val_loss: 0.5133 - val_accuracy: 0.7939\n",
            "Epoch 10/20\n",
            "29/29 [==============================] - 5s 165ms/step - loss: 0.2873 - accuracy: 0.8793 - val_loss: 0.4725 - val_accuracy: 0.7872\n",
            "Epoch 11/20\n",
            "29/29 [==============================] - 5s 164ms/step - loss: 0.2598 - accuracy: 0.8922 - val_loss: 0.5346 - val_accuracy: 0.7900\n",
            "Epoch 12/20\n",
            "29/29 [==============================] - 5s 164ms/step - loss: 0.2218 - accuracy: 0.9097 - val_loss: 0.5726 - val_accuracy: 0.7967\n",
            "Epoch 13/20\n",
            "29/29 [==============================] - 5s 164ms/step - loss: 0.1792 - accuracy: 0.9283 - val_loss: 0.5926 - val_accuracy: 0.7822\n",
            "Epoch 14/20\n",
            "29/29 [==============================] - 5s 163ms/step - loss: 0.1571 - accuracy: 0.9375 - val_loss: 0.7624 - val_accuracy: 0.7267\n",
            "Epoch 15/20\n",
            "29/29 [==============================] - 5s 163ms/step - loss: 0.1610 - accuracy: 0.9372 - val_loss: 0.6627 - val_accuracy: 0.7794\n",
            "Epoch 16/20\n",
            "29/29 [==============================] - 5s 164ms/step - loss: 0.1240 - accuracy: 0.9529 - val_loss: 0.7213 - val_accuracy: 0.7922\n",
            "Epoch 17/20\n",
            "29/29 [==============================] - 5s 164ms/step - loss: 0.0876 - accuracy: 0.9683 - val_loss: 0.8232 - val_accuracy: 0.7750\n",
            "Epoch 18/20\n",
            "29/29 [==============================] - 5s 164ms/step - loss: 0.0828 - accuracy: 0.9688 - val_loss: 0.7505 - val_accuracy: 0.7850\n",
            "Epoch 19/20\n",
            "29/29 [==============================] - 5s 164ms/step - loss: 0.0654 - accuracy: 0.9756 - val_loss: 0.8252 - val_accuracy: 0.7794\n",
            "Epoch 20/20\n",
            "29/29 [==============================] - 5s 163ms/step - loss: 0.0650 - accuracy: 0.9768 - val_loss: 0.8023 - val_accuracy: 0.7822\n",
            "Test Accuracy: 75.571603\n"
          ]
        }
      ]
    },
    {
      "cell_type": "code",
      "metadata": {
        "id": "Dd73lmRWbj74"
      },
      "source": [
        ""
      ],
      "execution_count": null,
      "outputs": []
    },
    {
      "cell_type": "code",
      "metadata": {
        "colab": {
          "base_uri": "https://localhost:8080/",
          "height": 331
        },
        "id": "6wNzuOCPOp4j",
        "outputId": "0d45c96b-b4ea-4f19-f455-5cada848f9b3"
      },
      "source": [
        "plt.title('Loss Vs Epochs ' )\n",
        "for i in range(3):\n",
        "  print(i)\n",
        "  ft = getModel(i ,glove_embeddings )\n",
        "  history = ft.fit(sequence_train, np.asarray(y_train),\n",
        "                          shuffle = True,\n",
        "                    batch_size=256,\n",
        "                    epochs=10,\n",
        "                    verbose= 0,\n",
        "                    validation_split=0.2)\n",
        "\n",
        "  plt.plot(history.history['val_loss'],label=\"model\"+str(i+1))\n",
        "  plt.legend()"
      ],
      "execution_count": null,
      "outputs": [
        {
          "output_type": "stream",
          "name": "stdout",
          "text": [
            "0\n",
            "1\n",
            "2\n"
          ]
        },
        {
          "output_type": "display_data",
          "data": {
            "image/png": "[encoded data removed]",
            "text/plain": [
              "<Figure size 432x288 with 1 Axes>"
            ]
          },
          "metadata": {
            "needs_background": "light"
          }
        }
      ]
    },
    {
      "cell_type": "code",
      "metadata": {
        "id": "fN2xrsm2ylIN"
      },
      "source": [
        "\n",
        "\n",
        "def DME( emb_matrices , maxlen):\n",
        "    \n",
        "    output = []\n",
        "    s = []\n",
        "    \n",
        "    #input to the model \n",
        "    inp = Input(shape=(maxlen, ))\n",
        "\n",
        "    #get embeddings \n",
        "    e1 = Embedding(vocab_size, 300, weights=[emb_matrices[0]], input_length=max_len, trainable=False)\n",
        "    e2 = Embedding(vocab_size, 300, weights=[emb_matrices[1]], input_length=max_len, trainable=False)\n",
        "    e3 = Embedding(vocab_size, 300, weights=[emb_matrices[2]], input_length=max_len, trainable=False)\n",
        "\n",
        "    # projection of embeddings on  (d*d' : 300*100) matrix \n",
        "    p1 = LSTM(100, return_sequences=True)(e1(inp))\n",
        "    p2 = LSTM(100, return_sequences=True)(e2(inp))\n",
        "    p3 = LSTM(100, return_sequences=True)(e3(inp))\n",
        "\n",
        "    # lstm_layer = LSTM(100, return_sequences=True)\n",
        "    # p1 = lstm_layer(e1(inp))\n",
        "    # p2 = lstm_layer(e2(inp))\n",
        "    # p3 = lstm_layer(e3(inp))\n",
        "\n",
        "    # a vector (d'*1 : 100*1)\n",
        "    dense_layer = Dense(1, activation='sigmoid')\n",
        "    \n",
        "    s1 = dense_layer(p1)\n",
        "    s2 = dense_layer(p2)\n",
        "    s3 = dense_layer(p3)\n",
        "\n",
        "    p1 = Reshape((-1,100,1))(p1)\n",
        "    p2 = Reshape((-1,100,1))(p2)\n",
        "    p3 = Reshape((-1,100,1))(p3)\n",
        " \n",
        "    output.append(p1)\n",
        "    output.append(p2)\n",
        "    output.append(p3)\n",
        "    \n",
        "    # projected matrix (N*d' : 2*100)\n",
        "    p =  Concatenate(axis=-1)(output) #projected matrix\n",
        "\n",
        "    s1 = Reshape((-1,1,1))(s1)\n",
        "    s2 = Reshape((-1,1,1))(s2)\n",
        "    s3 = Reshape((-1,1,1))(s3)\n",
        "\n",
        "    s.append(s1)\n",
        "    s.append(s2)\n",
        "    s.append(s3)\n",
        "    \n",
        "    # vector(N*1:2*1)\n",
        "    s =  Concatenate(axis=-1)(s)\n",
        "    \n",
        "    # (s^T*p) = dme \n",
        "    f = multiply([p, s])\n",
        "    out = Lambda(lambda t: K.sum(t, axis=-1))(f)\n",
        "\n",
        "    return Model(inp, out)\n"
      ],
      "execution_count": null,
      "outputs": []
    },
    {
      "cell_type": "code",
      "metadata": {
        "colab": {
          "base_uri": "https://localhost:8080/"
        },
        "id": "JDcI95zZ4xSW",
        "outputId": "dec5cedb-5404-48f5-9c37-b77bc0e083e8"
      },
      "source": [
        "print(embedding_matrix_w2v.shape , embedding_matrix_ft.shape)"
      ],
      "execution_count": null,
      "outputs": [
        {
          "output_type": "stream",
          "name": "stdout",
          "text": [
            "(17046, 300) (17046, 300)\n"
          ]
        }
      ]
    },
    {
      "cell_type": "code",
      "metadata": {
        "colab": {
          "base_uri": "https://localhost:8080/"
        },
        "id": "JgbeS1eAU9im",
        "outputId": "d177a4a8-cdc6-42c4-8dec-d5f5936bf237"
      },
      "source": [
        "dme = DME([embedding_matrix_w2v, embedding_matrix_ft , embedding_matrix_glove] , max_len)\n",
        "x = Bidirectional(LSTM(512, dropout=0.2, return_sequences=True))(dme.output)\n",
        "x = Bidirectional(LSTM(128, dropout=0.2, return_sequences=True))(x)\n",
        "x = Bidirectional(LSTM(32, dropout=0.2))(x)\n",
        "out = Dense(1, activation='sigmoid')(x)\n",
        "\n",
        "dme_model = Model(dme.input, out)\n",
        "dme_model.compile(loss='binary_crossentropy', optimizer='adam', metrics=['accuracy'])\n",
        "\n",
        "dme_model.summary()"
      ],
      "execution_count": null,
      "outputs": [
        {
          "output_type": "stream",
          "name": "stdout",
          "text": [
            "Model: \"model_1\"\n",
            "__________________________________________________________________________________________________\n",
            "Layer (type)                    Output Shape         Param #     Connected to                     \n",
            "==================================================================================================\n",
            "input_1 (InputLayer)            [(None, 25)]         0                                            \n",
            "__________________________________________________________________________________________________\n",
            "embedding_3 (Embedding)         (None, 25, 300)      5113800     input_1[0][0]                    \n",
            "__________________________________________________________________________________________________\n",
            "embedding_4 (Embedding)         (None, 25, 300)      5113800     input_1[0][0]                    \n",
            "__________________________________________________________________________________________________\n",
            "embedding_5 (Embedding)         (None, 25, 300)      5113800     input_1[0][0]                    \n",
            "__________________________________________________________________________________________________\n",
            "lstm (LSTM)                     (None, 25, 100)      160400      embedding_3[0][0]                \n",
            "__________________________________________________________________________________________________\n",
            "lstm_1 (LSTM)                   (None, 25, 100)      160400      embedding_4[0][0]                \n",
            "__________________________________________________________________________________________________\n",
            "lstm_2 (LSTM)                   (None, 25, 100)      160400      embedding_5[0][0]                \n",
            "__________________________________________________________________________________________________\n",
            "dense (Dense)                   (None, 25, 1)        101         lstm[0][0]                       \n",
            "                                                                 lstm_1[0][0]                     \n",
            "                                                                 lstm_2[0][0]                     \n",
            "__________________________________________________________________________________________________\n",
            "reshape (Reshape)               (None, 25, 100, 1)   0           lstm[0][0]                       \n",
            "__________________________________________________________________________________________________\n",
            "reshape_1 (Reshape)             (None, 25, 100, 1)   0           lstm_1[0][0]                     \n",
            "__________________________________________________________________________________________________\n",
            "reshape_2 (Reshape)             (None, 25, 100, 1)   0           lstm_2[0][0]                     \n",
            "__________________________________________________________________________________________________\n",
            "reshape_3 (Reshape)             (None, 25, 1, 1)     0           dense[0][0]                      \n",
            "__________________________________________________________________________________________________\n",
            "reshape_4 (Reshape)             (None, 25, 1, 1)     0           dense[1][0]                      \n",
            "__________________________________________________________________________________________________\n",
            "reshape_5 (Reshape)             (None, 25, 1, 1)     0           dense[2][0]                      \n",
            "__________________________________________________________________________________________________\n",
            "concatenate (Concatenate)       (None, 25, 100, 3)   0           reshape[0][0]                    \n",
            "                                                                 reshape_1[0][0]                  \n",
            "                                                                 reshape_2[0][0]                  \n",
            "__________________________________________________________________________________________________\n",
            "concatenate_1 (Concatenate)     (None, 25, 1, 3)     0           reshape_3[0][0]                  \n",
            "                                                                 reshape_4[0][0]                  \n",
            "                                                                 reshape_5[0][0]                  \n",
            "__________________________________________________________________________________________________\n",
            "multiply (Multiply)             (None, 25, 100, 3)   0           concatenate[0][0]                \n",
            "                                                                 concatenate_1[0][0]              \n",
            "__________________________________________________________________________________________________\n",
            "lambda (Lambda)                 (None, 25, 100)      0           multiply[0][0]                   \n",
            "__________________________________________________________________________________________________\n",
            "bidirectional (Bidirectional)   (None, 25, 1024)     2510848     lambda[0][0]                     \n",
            "__________________________________________________________________________________________________\n",
            "bidirectional_1 (Bidirectional) (None, 25, 256)      1180672     bidirectional[0][0]              \n",
            "__________________________________________________________________________________________________\n",
            "bidirectional_2 (Bidirectional) (None, 64)           73984       bidirectional_1[0][0]            \n",
            "__________________________________________________________________________________________________\n",
            "dense_1 (Dense)                 (None, 1)            65          bidirectional_2[0][0]            \n",
            "==================================================================================================\n",
            "Total params: 19,588,270\n",
            "Trainable params: 4,246,870\n",
            "Non-trainable params: 15,341,400\n",
            "__________________________________________________________________________________________________\n"
          ]
        }
      ]
    },
    {
      "cell_type": "code",
      "metadata": {
        "id": "vRaQOE9dVULl"
      },
      "source": [
        "\n",
        "Wsave = dme_model.get_weights()\n",
        "\n",
        "def dme_modelFit(x_train , y_train):\n",
        "  \n",
        "  num_epochs = 10\n",
        "  batch_sizes = [4 , 8 , 16 , 32, 64 , 100 , 128 , 256]\n",
        "  callback = tf.keras.callbacks.EarlyStopping(monitor='val_loss', mode = 'min' ,patience=5)\n",
        "  if(1):\n",
        "    plt.title('Loss Vs Epochs ' )\n",
        "    for batch_size in batch_sizes:\n",
        "      dme_model.set_weights(Wsave)\n",
        " \n",
        "      history = dme_model.fit(x_train , y_train,\n",
        "                          shuffle = True,\n",
        "                    batch_size=batch_size,\n",
        "                    epochs=num_epochs,\n",
        "                    verbose=0,\n",
        "                    callbacks=[callback],\n",
        "                    validation_split=0.2)\n",
        "      \n",
        "      plt.plot(history.history['val_loss'],label=\"bs\"+str(batch_size))\n",
        "      plt.legend()\n",
        "      # plt.show() "
      ],
      "execution_count": null,
      "outputs": []
    },
    {
      "cell_type": "code",
      "metadata": {
        "colab": {
          "base_uri": "https://localhost:8080/",
          "height": 281
        },
        "id": "enE6Q-2d8xvb",
        "outputId": "9564cd2e-bbdc-4c24-c69e-462ce66a3996"
      },
      "source": [
        "dme_modelFit(sequence_train, np.asarray(y_train))"
      ],
      "execution_count": null,
      "outputs": [
        {
          "output_type": "display_data",
          "data": {
            "image/png": "[encoded data removed]",
            "text/plain": [
              "<Figure size 432x288 with 1 Axes>"
            ]
          },
          "metadata": {
            "needs_background": "light"
          }
        }
      ]
    },
    {
      "cell_type": "code",
      "metadata": {
        "id": "waERs_4eLJ1h"
      },
      "source": [
        "def dme_modelFit2(x_train , y_train):\n",
        "  \n",
        "  num_epochs = 20\n",
        "  batch_sizes = [4 , 8 , 16]\n",
        "  callback = tf.keras.callbacks.EarlyStopping(monitor='val_loss', mode = 'min' ,patience=5)\n",
        "  if(1):\n",
        "    plt.title('Loss Vs Epochs ' )\n",
        "    for batch_size in batch_sizes:\n",
        "      dme_model.set_weights(Wsave)\n",
        "      history = dme_model.fit(x_train , y_train,\n",
        "                          shuffle = True,\n",
        "                    batch_size=batch_size,\n",
        "                    epochs=num_epochs,\n",
        "                    verbose=0,\n",
        "                    callbacks=[callback],\n",
        "                    validation_split=0.2)\n",
        "      \n",
        "      plt.plot(history.history['val_loss'],label=\"bs\"+str(batch_size))\n",
        "      plt.legend()\n",
        "      # plt.show() "
      ],
      "execution_count": null,
      "outputs": []
    },
    {
      "cell_type": "code",
      "metadata": {
        "colab": {
          "base_uri": "https://localhost:8080/"
        },
        "id": "xwrO69LmLdJG",
        "outputId": "ff026f12-5b25-490d-9632-360c7a176377"
      },
      "source": [
        "dme_modelFit2(sequence_train, np.asarray(y_train))"
      ],
      "execution_count": null,
      "outputs": [
        {
          "output_type": "display_data",
          "data": {
            "image/png": "[encoded data removed]",
            "text/plain": [
              "<Figure size 432x288 with 1 Axes>"
            ]
          },
          "metadata": {
            "needs_background": "light"
          }
        }
      ]
    },
    {
      "cell_type": "code",
      "metadata": {
        "colab": {
          "base_uri": "https://localhost:8080/"
        },
        "id": "MyeXcTMlVYUO",
        "outputId": "fa8cd094-1825-4cd8-ee6b-e00ecebf6d51"
      },
      "source": [
        "dme_model.fit(sequence_train, np.asarray(y_train), batch_size=256, epochs=10, verbose=2, validation_split=0.2)\n",
        "dme_model.evaluate(sequence_test,np.asarray(y_test), verbose=0)"
      ],
      "execution_count": null,
      "outputs": [
        {
          "output_type": "execute_result",
          "data": {
            "text/plain": [
              "[0.5100926160812378, 0.7701564431190491]"
            ]
          },
          "metadata": {},
          "execution_count": 95
        }
      ]
    },
    {
      "cell_type": "code",
      "metadata": {
        "id": "86Fhj4EZWdvn"
      },
      "source": [
        "# def Concat_Emb(list_emb, maxlen):\n",
        "    \n",
        "#     inputs = []\n",
        "#     output = []\n",
        "#     for embedding in list_emb:\n",
        "        \n",
        "#         inp = Input(shape=(maxlen,))\n",
        "#         emb = Embedding(vocab_size, 300, weights=[embedding], trainable=False)(inp)\n",
        "#         emb = Reshape((-1,300,1))(emb)\n",
        "#         inputs.append(inp)\n",
        "#         output.append(emb)\n",
        "        \n",
        "#     concat = Concatenate(axis=-1)(output)\n",
        "    \n",
        "#     return Model(inputs, concat)\n",
        "\n",
        "\n",
        "# def DME(maxlen):\n",
        "\n",
        "#     inp = Input(shape=(maxlen, 300, 2))\n",
        "#     x = Reshape((maxlen, 300*2))(inp)\n",
        "#     x = LSTM(2, return_sequences=True)(x)\n",
        "#     x = Activation('sigmoid')(x)\n",
        "#     x = Reshape((maxlen, 1, 2))(x)\n",
        "#     x = multiply([inp, x])\n",
        "#     out = Lambda(lambda t: K.sum(t, axis=-1))(x)\n",
        "    \n",
        "#     return Model(inp, out)\n",
        "\n",
        "def DME( emb_matrices , maxlen):\n",
        "    \n",
        "    output = []\n",
        "    s = []\n",
        "    \n",
        "    #input to the model \n",
        "    inp = Input(shape=(maxlen, ))\n",
        "\n",
        "    #get embeddings \n",
        "    e1 = Embedding(vocab_size, 300, weights=[emb_matrices[0]], input_length=max_len, trainable=False)\n",
        "    e2 = Embedding(vocab_size, 300, weights=[emb_matrices[1]], input_length=max_len, trainable=False)\n",
        "\n",
        "    # projection of embeddings on  (d*d' : 300*100) matrix \n",
        "    p1 = LSTM(100, return_sequences=True)(e1(inp))\n",
        "    p2 = LSTM(100, return_sequences=True)(e2(inp))\n",
        "\n",
        "    # lstm_layer = LSTM(100, return_sequences=True)\n",
        "    # p1 = lstm_layer(e1(inp))\n",
        "    # p2 = lstm_layer(e2(inp))\n",
        "\n",
        "    # a vector (d'*1 : 100*1)\n",
        "    dense_layer = Dense(1, activation='sigmoid')\n",
        "    \n",
        "    s1 = dense_layer(p1)\n",
        "    s2 = dense_layer(p2)\n",
        "\n",
        "    p1 = Reshape((-1,100,1))(p1)\n",
        "    p2 = Reshape((-1,100,1))(p2)\n",
        " \n",
        "    output.append(p1)\n",
        "    output.append(p2)\n",
        "    \n",
        "    # projected matrix (N*d' : 2*100)\n",
        "    p =  Concatenate(axis=-1)(output) #projected matrix\n",
        "\n",
        "    s1 = Reshape((-1,1,1))(s1)\n",
        "    s2 = Reshape((-1,1,1))(s2)\n",
        "\n",
        "    s.append(s1)\n",
        "    s.append(s2)\n",
        "    \n",
        "    # vector(N*1:2*1)\n",
        "    s =  Concatenate(axis=-1)(s)\n",
        "    \n",
        "    # (s^T*p) = dme \n",
        "    f = multiply([p, s])\n",
        "    out = Lambda(lambda t: K.sum(t, axis=-1))(f)\n",
        "\n",
        "    return Model(inp, out)"
      ],
      "execution_count": null,
      "outputs": []
    },
    {
      "cell_type": "code",
      "metadata": {
        "colab": {
          "base_uri": "https://localhost:8080/"
        },
        "id": "7NumTTrlyoYe",
        "outputId": "a7583867-ffec-4896-8f20-5a6851860c8a"
      },
      "source": [
        "dme = DME([embedding_matrix_w2v, embedding_matrix_ft] , max_len)\n",
        "x = Bidirectional(LSTM(128, dropout=0.2, return_sequences=True))(dme.output)\n",
        "# concat_inp = Concat_Emb([embedding_matrix_w2v, embedding_matrix_ft], maxlen=max_len)\n",
        "# dme = DME(max_len)\n",
        "# x = dme(concat_inp.output)\n",
        "# x = Bidirectional(LSTM(1024, dropout=0.2, return_sequences=True))(x)\n",
        "# x = Bidirectional(LSTM(128, dropout=0.2, return_sequences=True))(x)\n",
        "x = Bidirectional(LSTM(32, dropout=0.2))(x)\n",
        "out = Dense(1, activation='sigmoid')(x)\n",
        "\n",
        "# dme_model = Model(concat_inp.input, out)\n",
        "dme_model = Model(dme.input, out)\n",
        "dme_model.compile(loss='binary_crossentropy', optimizer='adam', metrics=['accuracy'])\n",
        "\n",
        "dme_model.summary()"
      ],
      "execution_count": null,
      "outputs": [
        {
          "output_type": "stream",
          "name": "stdout",
          "text": [
            "Model: \"model_25\"\n",
            "__________________________________________________________________________________________________\n",
            "Layer (type)                    Output Shape         Param #     Connected to                     \n",
            "==================================================================================================\n",
            "input_22 (InputLayer)           [(None, 25)]         0                                            \n",
            "__________________________________________________________________________________________________\n",
            "embedding_25 (Embedding)        (None, 25, 300)      5113800     input_22[0][0]                   \n",
            "__________________________________________________________________________________________________\n",
            "embedding_26 (Embedding)        (None, 25, 300)      5113800     input_22[0][0]                   \n",
            "__________________________________________________________________________________________________\n",
            "lstm_42 (LSTM)                  (None, 25, 100)      160400      embedding_25[0][0]               \n",
            "__________________________________________________________________________________________________\n",
            "lstm_43 (LSTM)                  (None, 25, 100)      160400      embedding_26[0][0]               \n",
            "__________________________________________________________________________________________________\n",
            "dense_14 (Dense)                (None, 25, 1)        101         lstm_42[0][0]                    \n",
            "                                                                 lstm_43[0][0]                    \n",
            "__________________________________________________________________________________________________\n",
            "reshape_36 (Reshape)            (None, 25, 100, 1)   0           lstm_42[0][0]                    \n",
            "__________________________________________________________________________________________________\n",
            "reshape_37 (Reshape)            (None, 25, 100, 1)   0           lstm_43[0][0]                    \n",
            "__________________________________________________________________________________________________\n",
            "reshape_38 (Reshape)            (None, 25, 1, 1)     0           dense_14[0][0]                   \n",
            "__________________________________________________________________________________________________\n",
            "reshape_39 (Reshape)            (None, 25, 1, 1)     0           dense_14[1][0]                   \n",
            "__________________________________________________________________________________________________\n",
            "concatenate_12 (Concatenate)    (None, 25, 100, 2)   0           reshape_36[0][0]                 \n",
            "                                                                 reshape_37[0][0]                 \n",
            "__________________________________________________________________________________________________\n",
            "concatenate_13 (Concatenate)    (None, 25, 1, 2)     0           reshape_38[0][0]                 \n",
            "                                                                 reshape_39[0][0]                 \n",
            "__________________________________________________________________________________________________\n",
            "multiply_9 (Multiply)           (None, 25, 100, 2)   0           concatenate_12[0][0]             \n",
            "                                                                 concatenate_13[0][0]             \n",
            "__________________________________________________________________________________________________\n",
            "lambda_9 (Lambda)               (None, 25, 100)      0           multiply_9[0][0]                 \n",
            "__________________________________________________________________________________________________\n",
            "bidirectional_24 (Bidirectional (None, 25, 256)      234496      lambda_9[0][0]                   \n",
            "__________________________________________________________________________________________________\n",
            "bidirectional_25 (Bidirectional (None, 64)           73984       bidirectional_24[0][0]           \n",
            "__________________________________________________________________________________________________\n",
            "dense_15 (Dense)                (None, 1)            65          bidirectional_25[0][0]           \n",
            "==================================================================================================\n",
            "Total params: 10,857,046\n",
            "Trainable params: 629,446\n",
            "Non-trainable params: 10,227,600\n",
            "__________________________________________________________________________________________________\n"
          ]
        }
      ]
    },
    {
      "cell_type": "code",
      "metadata": {
        "colab": {
          "base_uri": "https://localhost:8080/"
        },
        "id": "xKIcx3f4yuFM",
        "outputId": "5360cc13-67e0-4224-ad53-323dd45c2b3a"
      },
      "source": [
        "dme_model.fit(sequence_train, np.asarray(y_train), batch_size=256, epochs=5, verbose=2, validation_split=0.2)"
      ],
      "execution_count": null,
      "outputs": [
        {
          "output_type": "stream",
          "name": "stdout",
          "text": [
            "Epoch 1/5\n",
            "29/29 - 16s - loss: 0.6401 - accuracy: 0.6204 - val_loss: 0.5220 - val_accuracy: 0.7389\n",
            "Epoch 2/5\n",
            "29/29 - 2s - loss: 0.5373 - accuracy: 0.7347 - val_loss: 0.4826 - val_accuracy: 0.7872\n",
            "Epoch 3/5\n",
            "29/29 - 2s - loss: 0.4960 - accuracy: 0.7603 - val_loss: 0.4664 - val_accuracy: 0.7728\n",
            "Epoch 4/5\n",
            "29/29 - 2s - loss: 0.4749 - accuracy: 0.7679 - val_loss: 0.4430 - val_accuracy: 0.7833\n",
            "Epoch 5/5\n",
            "29/29 - 2s - loss: 0.4435 - accuracy: 0.7925 - val_loss: 0.4331 - val_accuracy: 0.7900\n"
          ]
        },
        {
          "output_type": "execute_result",
          "data": {
            "text/plain": [
              "<keras.callbacks.History at 0x7f86657ea310>"
            ]
          },
          "metadata": {},
          "execution_count": 74
        }
      ]
    },
    {
      "cell_type": "code",
      "metadata": {
        "colab": {
          "base_uri": "https://localhost:8080/"
        },
        "id": "x62gkt4OLdRV",
        "outputId": "eb152865-8a61-45e2-92f4-088bcae1f1e9"
      },
      "source": [
        "# dme_model.evaluate([sequence_test]*2,np.asarray(y_test), verbose=0)\n",
        "dme_model.evaluate(sequence_test,np.asarray(y_test), verbose=0)"
      ],
      "execution_count": null,
      "outputs": [
        {
          "output_type": "execute_result",
          "data": {
            "text/plain": [
              "[0.48011913895606995, 0.756317675113678]"
            ]
          },
          "metadata": {},
          "execution_count": 75
        }
      ]
    }
  ]
}